{
 "cells": [
  {
   "cell_type": "markdown",
   "metadata": {},
   "source": [
    "# Algorithms, Binary Search & Sorting"
   ]
  },
  {
   "cell_type": "markdown",
   "metadata": {},
   "source": [
    "## Tasks Today:\n",
    " \n",
    "1) <b>In-Place Algorithms</b> <br>\n",
    " &nbsp;&nbsp;&nbsp;&nbsp; a) Syntax <br>\n",
    " &nbsp;&nbsp;&nbsp;&nbsp; a) Out of Place Algorithm <br>\n",
    " &nbsp;&nbsp;&nbsp;&nbsp; b) In-Class Exercise #1 <br>\n",
    "2) <b>Two Pointers</b> <br>\n",
    "3) <b>Sorting Algos</b> <br>\n",
    " &nbsp;&nbsp;&nbsp;&nbsp; a) Video on Algorithms <br>\n",
    " &nbsp;&nbsp;&nbsp;&nbsp; b) How it Works <br>\n",
    "4) <b>Exercises</b> <br>\n",
    " &nbsp;&nbsp;&nbsp;&nbsp; a) Exercise #1 - Reverse a List in Place Using an In-Place Algorithm <br>\n",
    " &nbsp;&nbsp;&nbsp;&nbsp; b) Exercise #2 - Find Distinct Words <br>\n",
    " &nbsp;&nbsp;&nbsp;&nbsp; c) Exercise #3 - Write a program to implement a Linear Search Algorithm. <br>"
   ]
  },
  {
   "cell_type": "markdown",
   "metadata": {},
   "source": [
    "## In-Place Algorithms"
   ]
  },
  {
   "cell_type": "markdown",
   "metadata": {},
   "source": [
    "#### Syntax"
   ]
  },
  {
   "cell_type": "code",
   "execution_count": 7,
   "metadata": {},
   "outputs": [
    {
     "name": "stdout",
     "output_type": "stream",
     "text": [
      "before:\n",
      "[1, 2, 3, 4]\n",
      "after:\n",
      "[4, 2, 3, 1]\n"
     ]
    }
   ],
   "source": [
    "# swap algo\n",
    "#             0  1  2  3\n",
    "num_list = [1, 2, 3, 4]\n",
    "num_list[0], num_list[1], num_list[0]\n",
    "\n",
    "def  swappie(list_nums, x, y):\n",
    "#     example for simplicity sake\n",
    "#     tempx = x\n",
    "#     tempy = y\n",
    "#     list_nums[x] = tempy\n",
    "#     list_nums[y] = tempx\n",
    "\n",
    "    list_nums[x], list_nums[y] = list_nums[y], list_nums[x]\n",
    "print('before:')    \n",
    "print(num_list)\n",
    "swappie(num_list, 0, 3)\n",
    "print('after:')\n",
    "print(num_list)"
   ]
  },
  {
   "cell_type": "code",
   "execution_count": null,
   "metadata": {},
   "outputs": [],
   "source": []
  },
  {
   "cell_type": "markdown",
   "metadata": {},
   "source": [
    "#### Out of Place Algorithm"
   ]
  },
  {
   "cell_type": "code",
   "execution_count": 9,
   "metadata": {},
   "outputs": [
    {
     "name": "stdout",
     "output_type": "stream",
     "text": [
      "[1, 3, 2, 4]\n",
      "[1, 2, 3, 4]\n"
     ]
    }
   ],
   "source": [
    "def  swappie2(list_nums, x, y):\n",
    "    copy = list_nums[:]\n",
    "    copy[x], copy[y] = copy[y], copy[x]\n",
    "    return copy\n",
    "\n",
    "num_list2 = [1, 2, 3, 4]\n",
    "print(swappie2(num_list2,1, 2))\n",
    "print(num_list2)\n"
   ]
  },
  {
   "cell_type": "markdown",
   "metadata": {},
   "source": [
    "#### In-Class Exercise #1 <br>\n",
    "<p>Write a function that takes in four arguments (list, index1, index2, index3), and swaps those three positions in the list passed in.</p>"
   ]
  },
  {
   "cell_type": "code",
   "execution_count": 11,
   "metadata": {},
   "outputs": [
    {
     "name": "stdout",
     "output_type": "stream",
     "text": [
      "[3, 10, 4, 8, 4, 2, 6]\n",
      "[3, 10, 4, 8, 4, 2, 6]\n"
     ]
    }
   ],
   "source": [
    "l_1 = [10, 4, 3, 8, 4, 2, 6]\n",
    "\n",
    "def swappie3(list_it, ind1, ind2, ind3):\n",
    "    list_it[ind1], list_it[ind2], list_it[ind3] = list_it[ind3], list_it[ind1], list_it[ind2]\n",
    "    return list_it\n",
    "l_1 = [10, 4, 3, 8, 4, 2, 6]\n",
    "\n",
    "print(swappie3(l_1, 0, 1, 2))\n",
    "print(l_1)\n",
    "\n",
    "\n"
   ]
  },
  {
   "cell_type": "code",
   "execution_count": null,
   "metadata": {},
   "outputs": [],
   "source": [
    "l_1 = [10, 4, 3, 8, 4, 2, 6]\n",
    "\n",
    "print(sorted(l_1))\n",
    "print(l_1)"
   ]
  },
  {
   "cell_type": "markdown",
   "metadata": {},
   "source": [
    "## Two Pointers"
   ]
  },
  {
   "cell_type": "markdown",
   "metadata": {},
   "source": [
    "#### Syntax"
   ]
  },
  {
   "cell_type": "code",
   "execution_count": 12,
   "metadata": {},
   "outputs": [
    {
     "name": "stdout",
     "output_type": "stream",
     "text": [
      "[10, 4, 3, 8, 4, 2, 6]\n",
      "left=0 and right=6\n",
      "left=1 and right=5\n",
      "left=2 and right=4\n"
     ]
    },
    {
     "data": {
      "text/plain": [
       "[6, 2, 4, 8, 3, 4, 10]"
      ]
     },
     "execution_count": 12,
     "metadata": {},
     "output_type": "execute_result"
    }
   ],
   "source": [
    "l_3 = [10, 4, 3, 8, 4, 2, 6]\n",
    "\n",
    "def  swappie(list_nums, x, y):\n",
    "    list_nums[x], list_nums[y] = list_nums[y], list_nums[x]\n",
    "    \n",
    "def twoPointer(alist):\n",
    "    left = 0\n",
    "    right = len(alist) -1\n",
    "    while left < right:\n",
    "        print(f\"left={left} and right={right}\")\n",
    "        alist[left], alist[right] = alist[right], alist[left]\n",
    "        left += 1\n",
    "        right -= 1\n",
    "    return alist\n",
    "print(l_3)\n",
    "twoPointer(l_3)"
   ]
  },
  {
   "cell_type": "markdown",
   "metadata": {},
   "source": [
    "#### Algorithm videos and visualization helpers <br>\n",
    "<p>Watch the videos about algorithms.</p>\n",
    "\n",
    "https://www.youtube.com/watch?v=Q9HjeFD62Uk\n",
    "\n",
    "https://www.youtube.com/watch?v=kPRA0W1kECg\n",
    "\n",
    "https://www.youtube.com/watch?v=ZZuD6iUe3Pc\n",
    "\n",
    "<p>Check out resources:</p>\n",
    "\n",
    "https://www.hackerearth.com/practice/algorithms/sorting/bubble-sort/visualize/\n",
    "\n",
    "https://www.bigocheatsheet.com/"
   ]
  },
  {
   "cell_type": "markdown",
   "metadata": {},
   "source": [
    "# Sorting Algorithms"
   ]
  },
  {
   "cell_type": "markdown",
   "metadata": {},
   "source": [
    "#### Bubble Sort\n",
    "\n",
    "Worst Case: O(n^2) Time - O(1) Space"
   ]
  },
  {
   "cell_type": "code",
   "execution_count": 19,
   "metadata": {},
   "outputs": [
    {
     "name": "stdout",
     "output_type": "stream",
     "text": [
      "Untouched list- [88, 654, 45, 987, 21, 2, 45, 871]\n",
      "Untouched list2- [4, 894, 1, 5454, 654, 8000, 241]\n",
      "After, list1 - [2, 21, 45, 45, 88, 654, 871, 987]\n",
      "After, list2 - [1, 4, 241, 654, 894, 5454, 8000]\n"
     ]
    }
   ],
   "source": [
    "def  swap(list_nums, x, y):\n",
    "    list_nums[x], list_nums[y] = list_nums[y], list_nums[x]\n",
    "def bubbSort(arr):\n",
    "    count=0\n",
    "    for i in range(len(arr)):\n",
    "        \n",
    "        for j in range(len(arr)-1):\n",
    "#             print(f\"j = {j}\")\n",
    "            if arr[j] > arr[j+1]:\n",
    "                swap(arr, j, j+1)\n",
    "        count += 1\n",
    "        \n",
    "def betterBubbSort(arr):\n",
    "    isSorted = False\n",
    "    count = 0\n",
    "    while not isSorted:\n",
    "#         print(f\"count = {count}\")\n",
    "        isSorted = True\n",
    "        for i in range(len(arr)-1): #This is going to produce an error here when not referenced as len(var)-1\n",
    "#             print(f\"I={i}\")\n",
    "            if arr[i] > arr[i+1]:\n",
    "                swap(arr, i, i+1)\n",
    "                isSorted = False\n",
    "                \n",
    "    return arr\n",
    "\n",
    "list1 = [88, 654, 45, 987, 21, 2, 45, 871]\n",
    "list2 = [4, 894, 1, 5454, 654, 8000, 241]\n",
    "\n",
    "print(f\"Untouched list- {list1}\")\n",
    "print(f\"Untouched list2- {list2}\")\n",
    "\n",
    "\n",
    "bubbSort(list1)\n",
    "betterBubbSort(list2)\n",
    "\n",
    "print(f\"After, list1 - {list1}\")\n",
    "print(f\"After, list2 - {list2}\")\n"
   ]
  },
  {
   "cell_type": "markdown",
   "metadata": {},
   "source": [
    "##### Insertion Sort\n",
    "\n",
    "Worst Case: O(n^2) time - O(1)space"
   ]
  },
  {
   "cell_type": "code",
   "execution_count": 21,
   "metadata": {},
   "outputs": [
    {
     "name": "stdout",
     "output_type": "stream",
     "text": [
      "Untouched - [88, 654, 45, 987, 21, 2, 45, 871]\n",
      "After: [2, 21, 45, 45, 88, 654, 871, 987]\n"
     ]
    }
   ],
   "source": [
    "def  swap(list_nums, x, y):\n",
    "    list_nums[x], list_nums[y] = list_nums[y], list_nums[x]\n",
    "    \n",
    "def insSort(arr):\n",
    "    for i in range(len(arr)):\n",
    "        j = i\n",
    "        while j > 0 and arr[j] < arr[j-1]:\n",
    "            swap(arr,j, j-1)\n",
    "            j -= 1\n",
    "list3 = [88, 654, 45, 987, 21, 2, 45, 871]            \n",
    "print(f\"Untouched - {list3}\")\n",
    "\n",
    "insSort(list3)\n",
    "print(f\"After: {list3}\")\n"
   ]
  },
  {
   "cell_type": "markdown",
   "metadata": {},
   "source": [
    "## Merge Sort"
   ]
  },
  {
   "cell_type": "markdown",
   "metadata": {},
   "source": [
    "#### How it Works"
   ]
  },
  {
   "cell_type": "code",
   "execution_count": 27,
   "metadata": {},
   "outputs": [],
   "source": [
    "# main concepts --> 3 pointers:\n",
    "#     right, left, main\n",
    "#         Also splitting behavior indicative of logarithmic tim complexity\n",
    "\n",
    "# 4 main steps!\n",
    "\n",
    "# 1- split everything and keep that going until we cant split any farther\n",
    "# 2- from left to right, start merging groups together\n",
    "# 3- while merging...make sure we are correctly placing each item in the merged group\n",
    "# 4- repeat until done\n",
    "\n",
    "def mergeSort(alist):\n",
    "\n",
    "    print(f\"Splitting, splitting, splitting....\", alist)\n",
    "#     step 1: divide\n",
    "    if len(alist) > 1:\n",
    "        mid = len(alist)//2\n",
    "        lefthalf = alist[:mid]\n",
    "        righthalf = alist[mid:]\n",
    "        \n",
    "#         we're going to make a recursive call in order to get to the bottom\n",
    "        mergeSort(lefthalf)\n",
    "        mergeSort(righthalf)\n",
    "        \n",
    "#         time to make our pointers\n",
    "\n",
    "        i, j, k = 0,0,0\n",
    "    \n",
    "# step2 -compare!\n",
    "\n",
    "        while i < len(lefthalf) and j < len(righthalf):\n",
    "            if lefthalf[i] < righthalf[j]:\n",
    "                alist[k] = lefthalf[i]\n",
    "                i += 1\n",
    "           \n",
    "            else:\n",
    "                alist[k] = righthalf[j]\n",
    "                j += 1\n",
    "            k += 1\n",
    "            \n",
    "# step 3- placement matters!\n",
    "\n",
    "        while i < len(lefthalf):\n",
    "            alist[k] = lefthalf[i]\n",
    "            i += 1\n",
    "            k += 1\n",
    "            \n",
    "        while j < len(righthalf):\n",
    "            alist[k] = righthalf[j]\n",
    "            j += 1\n",
    "            k += 1\n",
    "            \n",
    "        print(f\"Merging: {alist}\")\n",
    "        \n"
   ]
  },
  {
   "cell_type": "code",
   "execution_count": 28,
   "metadata": {},
   "outputs": [
    {
     "name": "stdout",
     "output_type": "stream",
     "text": [
      "[88, 654, 45, 987, 21, 2, 45, 871, 4, 894, 1, 5454, 654, 8000, 241]\n",
      "Splitting, splitting, splitting.... [88, 654, 45, 987, 21, 2, 45, 871, 4, 894, 1, 5454, 654, 8000, 241]\n",
      "Splitting, splitting, splitting.... [88, 654, 45, 987, 21, 2, 45]\n",
      "Splitting, splitting, splitting.... [88, 654, 45]\n",
      "Splitting, splitting, splitting.... [88]\n",
      "Splitting, splitting, splitting.... [654, 45]\n",
      "Splitting, splitting, splitting.... [654]\n",
      "Splitting, splitting, splitting.... [45]\n",
      "Merging: [45, 654]\n",
      "Merging: [45, 88, 654]\n",
      "Splitting, splitting, splitting.... [987, 21, 2, 45]\n",
      "Splitting, splitting, splitting.... [987, 21]\n",
      "Splitting, splitting, splitting.... [987]\n",
      "Splitting, splitting, splitting.... [21]\n",
      "Merging: [21, 987]\n",
      "Splitting, splitting, splitting.... [2, 45]\n",
      "Splitting, splitting, splitting.... [2]\n",
      "Splitting, splitting, splitting.... [45]\n",
      "Merging: [2, 45]\n",
      "Merging: [2, 21, 45, 987]\n",
      "Merging: [2, 21, 45, 45, 88, 654, 987]\n",
      "Splitting, splitting, splitting.... [871, 4, 894, 1, 5454, 654, 8000, 241]\n",
      "Splitting, splitting, splitting.... [871, 4, 894, 1]\n",
      "Splitting, splitting, splitting.... [871, 4]\n",
      "Splitting, splitting, splitting.... [871]\n",
      "Splitting, splitting, splitting.... [4]\n",
      "Merging: [4, 871]\n",
      "Splitting, splitting, splitting.... [894, 1]\n",
      "Splitting, splitting, splitting.... [894]\n",
      "Splitting, splitting, splitting.... [1]\n",
      "Merging: [1, 894]\n",
      "Merging: [1, 4, 871, 894]\n",
      "Splitting, splitting, splitting.... [5454, 654, 8000, 241]\n",
      "Splitting, splitting, splitting.... [5454, 654]\n",
      "Splitting, splitting, splitting.... [5454]\n",
      "Splitting, splitting, splitting.... [654]\n",
      "Merging: [654, 5454]\n",
      "Splitting, splitting, splitting.... [8000, 241]\n",
      "Splitting, splitting, splitting.... [8000]\n",
      "Splitting, splitting, splitting.... [241]\n",
      "Merging: [241, 8000]\n",
      "Merging: [241, 654, 5454, 8000]\n",
      "Merging: [1, 4, 241, 654, 871, 894, 5454, 8000]\n",
      "Merging: [1, 2, 4, 21, 45, 45, 88, 241, 654, 654, 871, 894, 987, 5454, 8000]\n",
      "[1, 2, 4, 21, 45, 45, 88, 241, 654, 654, 871, 894, 987, 5454, 8000]\n"
     ]
    }
   ],
   "source": [
    "biglist = [88, 654, 45, 987, 21, 2, 45, 871, 4, 894, 1, 5454, 654, 8000, 241]\n",
    "print(biglist)\n",
    "mergeSort(biglist)\n",
    "print(biglist)"
   ]
  },
  {
   "cell_type": "markdown",
   "metadata": {},
   "source": [
    "# Binary Search\n",
    "\n",
    "The Binary Search algorithm works by finding the number in the middle of a given array and comparing it to the target. Given that the array is sorted\n",
    "\n",
    "* The worst case run time for this algorithm is `O(log(n))`"
   ]
  },
  {
   "cell_type": "code",
   "execution_count": null,
   "metadata": {},
   "outputs": [],
   "source": [
    "print(biglist)\n"
   ]
  },
  {
   "cell_type": "code",
   "execution_count": 33,
   "metadata": {},
   "outputs": [
    {
     "data": {
      "text/plain": [
       "'Match found at index 6 which is 88'"
      ]
     },
     "execution_count": 33,
     "metadata": {},
     "output_type": "execute_result"
    }
   ],
   "source": [
    "def binSearch(alist, target):\n",
    "    left = 0\n",
    "    right = len(alist)-1\n",
    "    while left <= right:\n",
    "        mid = (left + right)//2\n",
    "        potentialMatch = alist[mid]\n",
    "        if target == potentialMatch:\n",
    "            return f\"Match found at index {mid} which is {alist[mid]}\"\n",
    "        elif target < potentialMatch:\n",
    "            right = mid - 1\n",
    "        elif target > potentialMatch:\n",
    "            left = mid + 1\n",
    "    return f\"your target isn't in the list!\"\n",
    "binSearch(biglist, 88)\n",
    "        "
   ]
  },
  {
   "cell_type": "markdown",
   "metadata": {},
   "source": [
    "# Exercises"
   ]
  },
  {
   "cell_type": "markdown",
   "metadata": {},
   "source": [
    "### Exercise #1 <br>\n",
    "<p>Reverse the list below in-place using an in-place algorithm.<br>For extra credit: Reverse the strings at the same time.</p>"
   ]
  },
  {
   "cell_type": "code",
   "execution_count": null,
   "metadata": {},
   "outputs": [],
   "source": [
    "words = ['this' , 'is', 'a', 'sentence', '.']\n"
   ]
  },
  {
   "cell_type": "markdown",
   "metadata": {},
   "source": [
    "### Exercise #2 <br>\n",
    "<p>Create a function that counts how many distinct words are in the string below, then outputs a dictionary with the words as the key and the value as the amount of times that word appears in the string.<br>Should output:<br>{'a': 5,<br>\n",
    " 'abstract': 1,<br>\n",
    " 'an': 3,<br>\n",
    " 'array': 2, ... etc...</p>"
   ]
  },
  {
   "cell_type": "code",
   "execution_count": null,
   "metadata": {},
   "outputs": [],
   "source": [
    "a_text = 'In computing, a hash table hash map is a data structure which implements an associative array abstract data type, a structure that can map keys to values. A hash table uses a hash function to compute an index into an array of buckets or slots from which the desired value can be found'\n",
    "\n"
   ]
  },
  {
   "cell_type": "markdown",
   "metadata": {},
   "source": [
    "## Exercise #3\n",
    "\n",
    "Write a program to implement a Linear Search Algorithm. Also in a comment, write the Time Complexity of the following algorithm.\n",
    "\n",
    "#### Hint: Linear Searching will require searching a list for a given number. "
   ]
  },
  {
   "cell_type": "code",
   "execution_count": null,
   "metadata": {},
   "outputs": [],
   "source": []
  }
 ],
 "metadata": {
  "kernelspec": {
   "display_name": "Python 3 (ipykernel)",
   "language": "python",
   "name": "python3"
  },
  "language_info": {
   "codemirror_mode": {
    "name": "ipython",
    "version": 3
   },
   "file_extension": ".py",
   "mimetype": "text/x-python",
   "name": "python",
   "nbconvert_exporter": "python",
   "pygments_lexer": "ipython3",
   "version": "3.10.9"
  }
 },
 "nbformat": 4,
 "nbformat_minor": 2
}
